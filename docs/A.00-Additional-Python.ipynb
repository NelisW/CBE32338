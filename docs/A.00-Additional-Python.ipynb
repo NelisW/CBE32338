{
 "cells": [
  {
   "cell_type": "markdown",
   "metadata": {
    "nbpages": {
     "level": 0,
     "link": "[](https://jckantor.github.io/CBE32338/A.00-Additional-Python.html)",
     "section": ""
    }
   },
   "source": [
    "<!--NOTEBOOK_HEADER-->\n",
    "*This notebook contains material from [CBE32338](https://jckantor.github.io/CBE32338);\n",
    "content is available [on Github](https://github.com/jckantor/CBE32338.git).*\n"
   ]
  },
  {
   "cell_type": "markdown",
   "metadata": {
    "nbpages": {
     "level": 0,
     "link": "[](https://jckantor.github.io/CBE32338/A.00-Additional-Python.html)",
     "section": ""
    }
   },
   "source": [
    "<!--NAVIGATION-->\n",
    "< [5.2 Simulation, Control, and Estimation using Pyomo](https://jckantor.github.io/CBE32338/05.02-Optimization-Control-and-Estimation-using-Pyomo-With-Windows-ipopt.html) | [Contents](toc.html) | [A.1 Coding Controllers with Python Generators](https://jckantor.github.io/CBE32338/A.01-Coding-Controllers-with-Python-Generators.html) ><p><a href=\"https://colab.research.google.com/github/jckantor/CBE32338/blob/master/docs/A.00-Additional-Python.ipynb\"> <img align=\"left\" src=\"https://colab.research.google.com/assets/colab-badge.svg\" alt=\"Open in Colab\" title=\"Open in Google Colaboratory\"></a><p><a href=\"https://jckantor.github.io/CBE32338/A.00-Additional-Python.ipynb\"> <img align=\"left\" src=\"https://img.shields.io/badge/Github-Download-blue.svg\" alt=\"Download\" title=\"Download Notebook\"></a>"
   ]
  },
  {
   "cell_type": "markdown",
   "metadata": {
    "nbpages": {
     "level": 1,
     "link": "[A.0 Additional Python](https://jckantor.github.io/CBE32338/A.00-Additional-Python.html#A.0-Additional-Python)",
     "section": "A.0 Additional Python"
    }
   },
   "source": [
    "# A.0 Additional Python"
   ]
  },
  {
   "cell_type": "markdown",
   "metadata": {
    "nbpages": {
     "level": 1,
     "link": "[A.0 Additional Python](https://jckantor.github.io/CBE32338/A.00-Additional-Python.html#A.0-Additional-Python)",
     "section": "A.0 Additional Python"
    }
   },
   "source": [
    "<!--NAVIGATION-->\n",
    "< [5.2 Simulation, Control, and Estimation using Pyomo](https://jckantor.github.io/CBE32338/05.02-Optimization-Control-and-Estimation-using-Pyomo-With-Windows-ipopt.html) | [Contents](toc.html) | [A.1 Coding Controllers with Python Generators](https://jckantor.github.io/CBE32338/A.01-Coding-Controllers-with-Python-Generators.html) ><p><a href=\"https://colab.research.google.com/github/jckantor/CBE32338/blob/master/docs/A.00-Additional-Python.ipynb\"> <img align=\"left\" src=\"https://colab.research.google.com/assets/colab-badge.svg\" alt=\"Open in Colab\" title=\"Open in Google Colaboratory\"></a><p><a href=\"https://jckantor.github.io/CBE32338/A.00-Additional-Python.ipynb\"> <img align=\"left\" src=\"https://img.shields.io/badge/Github-Download-blue.svg\" alt=\"Download\" title=\"Download Notebook\"></a>"
   ]
  }
 ],
 "metadata": {
  "kernelspec": {
   "display_name": "Python 3",
   "language": "python",
   "name": "python3"
  },
  "language_info": {
   "codemirror_mode": {
    "name": "ipython",
    "version": 3
   },
   "file_extension": ".py",
   "mimetype": "text/x-python",
   "name": "python",
   "nbconvert_exporter": "python",
   "pygments_lexer": "ipython3",
   "version": "3.6.8"
  }
 },
 "nbformat": 4,
 "nbformat_minor": 2
}
