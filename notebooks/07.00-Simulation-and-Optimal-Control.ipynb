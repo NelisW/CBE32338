{
 "cells": [
  {
   "cell_type": "markdown",
   "metadata": {
    "colab_type": "text",
    "id": "UeRQIUsNYBVm"
   },
   "source": [
    "<!--NOTEBOOK_HEADER-->\n",
    "*This notebook contains course material from [CBE32338](https://jckantor.github.io/CBE32338)\n",
    "by Jeffrey Kantor (jeff at nd.edu); the content is available [on Github](https://github.com/jckantor/CBE2338.git).\n",
    "The text is released under the [CC-BY-NC-ND-4.0 license](https://creativecommons.org/licenses/by-nc-nd/4.0/legalcode),\n",
    "and code is released under the [MIT license](https://opensource.org/licenses/MIT).*"
   ]
  },
  {
   "cell_type": "markdown",
   "metadata": {
    "colab_type": "text",
    "id": "4WiGEs4mYBVn"
   },
   "source": [
    "<!--NAVIGATION-->\n",
    "< [Pyomo Examples](http://nbviewer.jupyter.org/github/jckantor/CBE32338/blob/master/notebooks/06.99-Pyomo-Examples.ipynb) | [Contents](toc.ipynb) | [Simulation and Optimal Control in Pharmacokinetics](http://nbviewer.jupyter.org/github/jckantor/CBE32338/blob/master/notebooks/07.01-Simulation-and-Optimal-Control-in-Pharmacokinetics.ipynb) ><p><a href=\"https://colab.research.google.com/github/jckantor/CBE32338/blob/master/notebooks/07.00-Simulation-and-Optimal-Control.ipynb\"><img align=\"left\" src=\"https://colab.research.google.com/assets/colab-badge.svg\" alt=\"Open in Colab\" title=\"Open in Google Colaboratory\"></a><p><a href=\"https://raw.githubusercontent.com/jckantor/CBE32338/master/notebooks/07.00-Simulation-and-Optimal-Control.ipynb\"><img align=\"left\" src=\"https://img.shields.io/badge/Github-Download-blue.svg\" alt=\"Download\" title=\"Download Notebook\"></a>"
   ]
  },
  {
   "cell_type": "markdown",
   "metadata": {
    "colab_type": "text",
    "id": "OhMTyGqXYBVo"
   },
   "source": [
    "# Simulation and Optimal Control"
   ]
  },
  {
   "cell_type": "markdown",
   "metadata": {
    "colab_type": "text",
    "id": "Qld7ka8bYDxV"
   },
   "source": [
    "## Available Solvers\n",
    "\n",
    "* [ampl.com](https://ampl.com/products/solvers/open-source/)"
   ]
  },
  {
   "cell_type": "markdown",
   "metadata": {
    "colab_type": "text",
    "id": "0rhOSuSKYBVp"
   },
   "source": [
    "<!--NAVIGATION-->\n",
    "< [Pyomo Examples](http://nbviewer.jupyter.org/github/jckantor/CBE32338/blob/master/notebooks/06.99-Pyomo-Examples.ipynb) | [Contents](toc.ipynb) | [Simulation and Optimal Control in Pharmacokinetics](http://nbviewer.jupyter.org/github/jckantor/CBE32338/blob/master/notebooks/07.01-Simulation-and-Optimal-Control-in-Pharmacokinetics.ipynb) ><p><a href=\"https://colab.research.google.com/github/jckantor/CBE32338/blob/master/notebooks/07.00-Simulation-and-Optimal-Control.ipynb\"><img align=\"left\" src=\"https://colab.research.google.com/assets/colab-badge.svg\" alt=\"Open in Colab\" title=\"Open in Google Colaboratory\"></a><p><a href=\"https://raw.githubusercontent.com/jckantor/CBE32338/master/notebooks/07.00-Simulation-and-Optimal-Control.ipynb\"><img align=\"left\" src=\"https://img.shields.io/badge/Github-Download-blue.svg\" alt=\"Download\" title=\"Download Notebook\"></a>"
   ]
  }
 ],
 "metadata": {
  "colab": {
   "collapsed_sections": [],
   "name": "07.00-Simulation-and-Optimal-Control.ipynb",
   "provenance": [],
   "version": "0.3.2"
  },
  "kernelspec": {
   "display_name": "Python 3",
   "language": "python",
   "name": "python3"
  }
 },
 "nbformat": 4,
 "nbformat_minor": 0
}
