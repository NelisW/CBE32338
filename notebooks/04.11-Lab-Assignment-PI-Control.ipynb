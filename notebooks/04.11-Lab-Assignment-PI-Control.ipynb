{
 "cells": [
  {
   "cell_type": "markdown",
   "metadata": {},
   "source": [
    "<!--NOTEBOOK_HEADER-->\n",
    "*This notebook contains course material from [CBE32338](https://jckantor.github.io/CBE32338)\n",
    "by Jeffrey Kantor (jeff at nd.edu); the content is available [on Github](https://github.com/jckantor/CBE2338.git).\n",
    "The text is released under the [CC-BY-NC-ND-4.0 license](https://creativecommons.org/licenses/by-nc-nd/4.0/legalcode),\n",
    "and code is released under the [MIT license](https://opensource.org/licenses/MIT).*"
   ]
  },
  {
   "cell_type": "markdown",
   "metadata": {},
   "source": [
    "<!--NAVIGATION-->\n",
    "< [Lab Assignment: PID Control](http://nbviewer.jupyter.org/github/jckantor/CBE32338/blob/master/notebooks/04.10-Lab-Assignment-PID-Control.ipynb) | [Contents](toc.ipynb) | [Predictive Control and Real Time Optimization](http://nbviewer.jupyter.org/github/jckantor/CBE32338/blob/master/notebooks/05.00-Predictive-Control-and-Real-Time-Optimization.ipynb) ><p><a href=\"https://colab.research.google.com/github/jckantor/CBE32338/blob/master/notebooks/04.11-Lab-Assignment-PI-Control.ipynb\"><img align=\"left\" src=\"https://colab.research.google.com/assets/colab-badge.svg\" alt=\"Open in Colab\" title=\"Open in Google Colaboratory\"></a><p><a href=\"https://raw.githubusercontent.com/jckantor/CBE32338/master/notebooks/04.11-Lab-Assignment-PI-Control.ipynb\"><img align=\"left\" src=\"https://img.shields.io/badge/Github-Download-blue.svg\" alt=\"Download\" title=\"Download Notebook\"></a>"
   ]
  },
  {
   "cell_type": "markdown",
   "metadata": {},
   "source": [
    "# Lab Assignment 4: PI Control\n",
    "\n",
    "This lab assignment introduces the use of PID control for the temperature control laboratory. In this assignment you will be \n",
    "\n",
    "* testing a simple implementation of PI control\n",
    "* identifying issues that have to be addressed for a more practical implementation"
   ]
  },
  {
   "cell_type": "markdown",
   "metadata": {},
   "source": [
    "## Implementation of a simple PI controller\n",
    "\n",
    "Given a process variable $PV$ and setpoint $SP$, proportional-integral-derivative control determines the value of a manipulated variable MV by the rule\n",
    "\n",
    "\\begin{align}\n",
    "MV & = \\bar{MV} + K_p\\left(SP - PV\\right) + K_i \\int_0^t \\left(SP-PV)\\right)dt\n",
    "\\end{align}\n",
    "\n",
    "where $k_p$ and $k_i$ are the proportional and integral coefficients, respectively. \n",
    "\n",
    "The following code defines a Python object that implements this algorithm."
   ]
  },
  {
   "cell_type": "code",
   "execution_count": 8,
   "metadata": {},
   "outputs": [],
   "source": [
    "class PI:\n",
    "    def __init__(self):\n",
    "        self.kp = 1\n",
    "        self.ki = 0\n",
    "\n",
    "        self.e = 0\n",
    "        self.I = 0\n",
    "        self.mv = 0\n",
    "\n",
    "    def update(self, setpoint, pv):\n",
    "        e = setpoint - pv\n",
    "        self.I += e\n",
    "        self.e = e\n",
    "\n",
    "        self.mv = self.kp * self.e + self.ki * self.I\n",
    "        return self.mv"
   ]
  },
  {
   "cell_type": "markdown",
   "metadata": {},
   "source": [
    "## Exercise 1. Tune the PI control for the Temperature Control Lab"
   ]
  },
  {
   "cell_type": "markdown",
   "metadata": {},
   "source": [
    "The following cell provides an initial implementation of PI control for heater T1.  This is setup for testing with the off-line simulation mode of tclab.  Experiment with the simulation to find appropriate values for $k_p$ and $k_i$. Your design goal is to achieve the setpoint and stay within a zone of +/- 2 degrees as quickly as possible."
   ]
  },
  {
   "cell_type": "code",
   "execution_count": null,
   "metadata": {},
   "outputs": [],
   "source": [
    "%matplotlib inline\n",
    "\n",
    "from tclab import setup, clock, Historian, Plotter\n",
    "\n",
    "TCLab = setup(connected=False, speedup = 20)\n",
    "\n",
    "pi = PI()\n",
    "pi.kp = 2\n",
    "pi.ki = .1\n",
    "\n",
    "SP = 50\n",
    "\n",
    "with TCLab() as lab:\n",
    "    h = Historian(lab.sources)\n",
    "    p = Plotter(h, 800)\n",
    "    for t in clock(800):\n",
    "        PV = lab.T1               # measure the the process variable\n",
    "        MV = pi.update(SP, PV)    # use PI control to compute next value for the manipulated variable\n",
    "        lab.Q1(MV)                # set the heater power\n",
    "        p.update(t)               # log data\n",
    "        "
   ]
  },
  {
   "cell_type": "markdown",
   "metadata": {},
   "source": [
    "## Exercise 2. Hardware testing the PI controller\n",
    "\n",
    "* Copy and paste the above code into the cell below. Connect the code to the tclab hardware by changing 'connected' to 'True'.  Adjust the experiment horizon to 1200 seconds to provide plenty of time for testing.\n",
    "\n",
    "* Test your controller.  Does the performance match the simulation?\n",
    "\n",
    "* After the controller has achieved the setpoint, introduce a disturbance. An example of a disturbance would be to increase air flow around the device, or to touch the heater with something thermally conductive (be careful, don't use your finger. 50 deg C is hot enough to burn your skin.) \n",
    "\n",
    "* Add a text cell below, and comment on your results. Do you see any shortcomings in this control implementation?"
   ]
  },
  {
   "cell_type": "code",
   "execution_count": null,
   "metadata": {},
   "outputs": [],
   "source": []
  },
  {
   "cell_type": "markdown",
   "metadata": {},
   "source": []
  },
  {
   "cell_type": "markdown",
   "metadata": {},
   "source": [
    "## Exercise 3. Multivariable PI control\n",
    "\n",
    "The next exercise is to extend the system to control both heaters. You won't have enough time in the lab to do this experimentally, so do this exercise using the simulation mode of tclab.\n",
    "\n",
    "* Copy and past the code from Exercise 1 into the cell below.  \n",
    "\n",
    "* Add a second PI controller (rename the first pi_1, and call the second pi_2, for example). Adjust the setpoint for the first heater to 40 deg C, and the second to 35 deg C. Tune the controllers to achieve rapid acquisition of the setpoints."
   ]
  },
  {
   "cell_type": "markdown",
   "metadata": {},
   "source": [
    "<!--NAVIGATION-->\n",
    "< [Lab Assignment: PID Control](http://nbviewer.jupyter.org/github/jckantor/CBE32338/blob/master/notebooks/04.10-Lab-Assignment-PID-Control.ipynb) | [Contents](toc.ipynb) | [Predictive Control and Real Time Optimization](http://nbviewer.jupyter.org/github/jckantor/CBE32338/blob/master/notebooks/05.00-Predictive-Control-and-Real-Time-Optimization.ipynb) ><p><a href=\"https://colab.research.google.com/github/jckantor/CBE32338/blob/master/notebooks/04.11-Lab-Assignment-PI-Control.ipynb\"><img align=\"left\" src=\"https://colab.research.google.com/assets/colab-badge.svg\" alt=\"Open in Colab\" title=\"Open in Google Colaboratory\"></a><p><a href=\"https://raw.githubusercontent.com/jckantor/CBE32338/master/notebooks/04.11-Lab-Assignment-PI-Control.ipynb\"><img align=\"left\" src=\"https://img.shields.io/badge/Github-Download-blue.svg\" alt=\"Download\" title=\"Download Notebook\"></a>"
   ]
  }
 ],
 "metadata": {
  "kernelspec": {
   "display_name": "Python 3",
   "language": "python",
   "name": "python3"
  },
  "language_info": {
   "codemirror_mode": {
    "name": "ipython",
    "version": 3
   },
   "file_extension": ".py",
   "mimetype": "text/x-python",
   "name": "python",
   "nbconvert_exporter": "python",
   "pygments_lexer": "ipython3",
   "version": "3.7.4"
  }
 },
 "nbformat": 4,
 "nbformat_minor": 4
}
