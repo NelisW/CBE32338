{
 "cells": [
  {
   "cell_type": "markdown",
   "metadata": {},
   "source": [
    "# Blending Tank Simulation\n",
    "\n",
    "This example provides an introduction to the use of python for the simulation of a simple process modeled by a pair of ordinary differential equations. See textbook example 2.1 for more details on the process."
   ]
  },
  {
   "cell_type": "markdown",
   "metadata": {},
   "source": [
    "### Initialize Python Workspace\n",
    "\n",
    "Unlike Matlab, in Python it is always necessary to import the functions and libraries that you intend to use. In this case we import the complete `pylab` library, and the function `odeint` for integrating systems of differential equations from the `scipy` library.  The command `%matplotlib inline` causes graphic commands to produce results directly within the notebook output cells."
   ]
  },
  {
   "cell_type": "code",
   "execution_count": 5,
   "metadata": {
    "collapsed": true
   },
   "outputs": [],
   "source": [
    "from pylab import *\n",
    "from scipy.integrate import odeint\n",
    "%matplotlib inline"
   ]
  },
  {
   "cell_type": "markdown",
   "metadata": {},
   "source": [
    "## Basic Simulation of the Blending Tank\n",
    "\n",
    "\\begin{align*}\n",
    "\\frac{dV}{dt} & = \\frac{1}{\\rho}(w_1 + w_2 - w)\\\\\n",
    "\\frac{dx}{dt} & = \\frac{1}{\\rho V}(w_1 (x_1 - x) + w_2 (x_2 - x))\n",
    "\\end{align*}"
   ]
  },
  {
   "cell_type": "markdown",
   "metadata": {},
   "source": [
    "#### Step 1. Establish Parameter Values"
   ]
  },
  {
   "cell_type": "code",
   "execution_count": 12,
   "metadata": {
    "collapsed": true
   },
   "outputs": [],
   "source": [
    "rho = 900.0  # density, kg/m**3\n",
    "\n",
    "w1 = 500.0   # stream 1, kg/min\n",
    "w2 = 200.0   # stream 2, kg/min\n",
    "w =  650.0   # set outflow equal to sum of inflows\n",
    "\n",
    "x1 = 0.4     # composition stream 1, mass fraction\n",
    "x2 = 0.75    # composition stream 2, mass fraction"
   ]
  },
  {
   "cell_type": "markdown",
   "metadata": {},
   "source": [
    "#### Step 2. Write a function to compute the RHS's of the Differential Equations"
   ]
  },
  {
   "cell_type": "code",
   "execution_count": 13,
   "metadata": {
    "collapsed": true
   },
   "outputs": [],
   "source": [
    "def func(y,t):\n",
    "    V,x = y\n",
    "    dVdt = (w1 + w2 - w)/rho\n",
    "    dxdt = (w1*(x1-x)+w2*(x2-x))/(rho*V)\n",
    "    return [dVdt, dxdt]"
   ]
  },
  {
   "cell_type": "markdown",
   "metadata": {},
   "source": [
    "#### Step 3. Set the Initial Conditions"
   ]
  },
  {
   "cell_type": "code",
   "execution_count": 14,
   "metadata": {
    "collapsed": true
   },
   "outputs": [],
   "source": [
    "V = 2.0      # volume, cubic meters\n",
    "x = 0.0      # composition, mass fraction"
   ]
  },
  {
   "cell_type": "markdown",
   "metadata": {},
   "source": [
    "#### Step 4. Integrate the Differential Equations"
   ]
  },
  {
   "cell_type": "code",
   "execution_count": 15,
   "metadata": {
    "collapsed": false
   },
   "outputs": [],
   "source": [
    "t = linspace(0,10.0)\n",
    "y = odeint(func,[V,x],t)"
   ]
  },
  {
   "cell_type": "markdown",
   "metadata": {},
   "source": [
    "#### Step 5. Visualize the Solution"
   ]
  },
  {
   "cell_type": "code",
   "execution_count": 16,
   "metadata": {
    "collapsed": false
   },
   "outputs": [
    {
     "data": {
      "image/png": "[encoded data removed]",
      "text/plain": [
       "<matplotlib.figure.Figure at 0x10b3cf150>"
      ]
     },
     "metadata": {},
     "output_type": "display_data"
    }
   ],
   "source": [
    "plot(t,y)\n",
    "xlabel('Time [min]')\n",
    "ylabel('Volume, Composition')\n",
    "legend(['Volume','Composition'])\n",
    "ylim(0,3)\n",
    "grid()\n",
    "#savefig('BlendingTankStartUp.png')"
   ]
  },
  {
   "cell_type": "markdown",
   "metadata": {},
   "source": [
    "## Steady State Analysis\n",
    "\n",
    "The blending tank is a system with two state variables (volume and composition). Suppose a mechanism is put in place to force\n",
    "\n",
    "$$w = w_1 + w_2$$\n",
    "\n",
    "The mechanism could involve the installation of an overflow weir, level controller, or some other device to force a balance between the outflow and total inflows.  In this case,\n",
    "\n",
    "$$\\frac{dV}{dt} = 0$$\n",
    "\n",
    "which means volume is at *steady state*.  In that case there is just one remaining differential equation\n",
    "\n",
    "$$\\frac{dx}{dt} = \\frac{1}{\\rho V}( w_1(x_1 - x) + w_1(x_2 - x))$$\n",
    "\n",
    "Solving for the steady value of $x$,\n",
    "\n",
    "$$\\bar{x} = \\frac{w_1x_1 + w_2x_2}{w_1 + w_2}$$"
   ]
  },
  {
   "cell_type": "code",
   "execution_count": 11,
   "metadata": {
    "collapsed": false
   },
   "outputs": [
    {
     "name": "stdout",
     "output_type": "stream",
     "text": [
      "Steady State Composition = 0.5\n"
     ]
    }
   ],
   "source": [
    "w1 = 500.0   # stream 1, kg/min\n",
    "w2 = 200.0   # stream 2, kg/min\n",
    "\n",
    "x1 = 0.4     # composition stream 1, mass fraction\n",
    "x2 = 0.75    # composition stream 2, mass fraction\n",
    "\n",
    "x = (w1*x1 + w2*x2)/(w1 + w2)\n",
    "\n",
    "print 'Steady State Composition =', x"
   ]
  },
  {
   "cell_type": "code",
   "execution_count": null,
   "metadata": {
    "collapsed": true
   },
   "outputs": [],
   "source": []
  }
 ],
 "metadata": {
  "anaconda-cloud": {},
  "kernelspec": {
   "display_name": "Python [conda root]",
   "language": "python",
   "name": "conda-root-py"
  },
  "language_info": {
   "codemirror_mode": {
    "name": "ipython",
    "version": 3
   },
   "file_extension": ".py",
   "mimetype": "text/x-python",
   "name": "python",
   "nbconvert_exporter": "python",
   "pygments_lexer": "ipython3",
   "version": "3.5.2"
  }
 },
 "nbformat": 4,
 "nbformat_minor": 0
}
