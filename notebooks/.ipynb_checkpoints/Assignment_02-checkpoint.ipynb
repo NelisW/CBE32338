{
 "cells": [
  {
   "cell_type": "markdown",
   "metadata": {
    "collapsed": true
   },
   "source": [
    "# Assignment 02\n",
    "\n",
    "All of the problems for this week's assignment have been consolidated into this notebook.  The purpose of this was to make it is easier to submit and grade assignments by keeping all of the parts in one place (this notebook) and available through one interface (Vocareum).  For questions that require no Python programming, simply type your results into a markdown cell. "
   ]
  },
  {
   "cell_type": "markdown",
   "metadata": {},
   "source": [
    "## 1. Semiconducter Heater (adapted from problem 5.2, SEMD)\n",
    "\n",
    "A heater for a semiconductor wafer has first-order dynamics that can be modeled by the differential equation\n",
    "\n",
    "$$\\tau \\frac{dT}{dt} = -T + KP(t)$$\n",
    "\n",
    "where $\\tau$ is time constant with units of minutes, and $K$ is a constant with units $^\\circ C$ per kilowatt. The process is at steady state when an engineer changes the power input from 1.0 to 1.5 kilowatt. The engineer notes the following:\n",
    "\n",
    "* The initial process temperature is 80$^\\circ C$.\n",
    "* The process temperature is 230$^\\circ C$ four minutes after changing the power input.\n",
    "* Thirty minutes later the temperture is 280$^\\circ C$ where it remains as the new steady state.\n",
    "\n",
    "**a.** What are the values of $\\tau$ and $K$?\n",
    "\n",
    "**b.** It is desired to put the model equation into standard state-space form\n",
    "\n",
    "$$\\frac{dx}{dt} = a\\,x + b\\,u$$ \n",
    "\n",
    "where $x$ corresponds to process temperature, and $u$ to process power. Express $a$ and $b$ algebraiclly in term of the $\\tau$ and $\\K$, and find numerical values using the results of part (a).\n"
   ]
  },
  {
   "cell_type": "code",
   "execution_count": null,
   "metadata": {
    "collapsed": true
   },
   "outputs": [],
   "source": []
  }
 ],
 "metadata": {
  "anaconda-cloud": {},
  "kernelspec": {
   "display_name": "Python [conda root]",
   "language": "python",
   "name": "conda-root-py"
  },
  "language_info": {
   "codemirror_mode": {
    "name": "ipython",
    "version": 3
   },
   "file_extension": ".py",
   "mimetype": "text/x-python",
   "name": "python",
   "nbconvert_exporter": "python",
   "pygments_lexer": "ipython3",
   "version": "3.5.2"
  }
 },
 "nbformat": 4,
 "nbformat_minor": 1
}
