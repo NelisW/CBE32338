{
 "cells": [
  {
   "cell_type": "markdown",
   "metadata": {},
   "source": [
    "<!--COURSE_INFORMATION-->\n",
    "*This notebook contains course material from [CBE 30338 Chemical Process Control](http://jckantor.github.io/CBE30338/) by Jeffrey Kantor (jeff at nd.edu); the content is available [on GitHub](https://github.com/jckantor/CBE30338).*\n",
    "*The text is released under the [CC-BY-NC-ND-4.0 license](https://creativecommons.org/licenses/by-nc-nd/4.0/legalcode), and code is released under the [MIT license](https://opensource.org/licenses/MIT).*\n"
   ]
  },
  {
   "cell_type": "markdown",
   "metadata": {},
   "source": [
    "<!--NAVIGATION-->\n",
    "< [Zero-Order Hold and Interpolation](08.01-Zero Order Hold and Interpolation.ipynb) | [Contents](index.ipynb) | [Scheduling State-Task Networks](09.01-Scheduling_Multipurpose_Batch_Processes_using_State-Task_Networks.ipynb) >\n",
    "\n",
    "<a href=\"https://colab.research.google.com/github/jckantor/CBE30338/blob/master/notebooks/09.00-Discrete-Events.ipynb\"><img align=\"left\" src=\"https://colab.research.google.com/assets/colab-badge.svg\" alt=\"Open in Colab\" title=\"Open and Execute in Google Colaboratory\"></a>\n"
   ]
  },
  {
   "cell_type": "markdown",
   "metadata": {},
   "source": [
    "# Discrete Events"
   ]
  },
  {
   "cell_type": "markdown",
   "metadata": {},
   "source": [
    "<!--NAVIGATION-->\n",
    "< [Zero-Order Hold and Interpolation](08.01-Zero Order Hold and Interpolation.ipynb) | [Contents](index.ipynb) | [Scheduling State-Task Networks](09.01-Scheduling_Multipurpose_Batch_Processes_using_State-Task_Networks.ipynb) >\n",
    "\n",
    "<a href=\"https://colab.research.google.com/github/jckantor/CBE30338/blob/master/notebooks/09.00-Discrete-Events.ipynb\"><img align=\"left\" src=\"https://colab.research.google.com/assets/colab-badge.svg\" alt=\"Open in Colab\" title=\"Open and Execute in Google Colaboratory\"></a>\n"
   ]
  }
 ],
 "metadata": {
  "kernelspec": {
   "display_name": "Python 3",
   "language": "python",
   "name": "python3"
  },
  "language_info": {
   "codemirror_mode": {
    "name": "ipython",
    "version": 3
   },
   "file_extension": ".py",
   "mimetype": "text/x-python",
   "name": "python",
   "nbconvert_exporter": "python",
   "pygments_lexer": "ipython3",
   "version": "3.6.8"
  }
 },
 "nbformat": 4,
 "nbformat_minor": 2
}
