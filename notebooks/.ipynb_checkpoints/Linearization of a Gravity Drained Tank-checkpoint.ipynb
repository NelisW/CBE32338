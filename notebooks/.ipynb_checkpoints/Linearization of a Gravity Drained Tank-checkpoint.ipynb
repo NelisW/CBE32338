{
 "cells": [
  {
   "cell_type": "markdown",
   "metadata": {},
   "source": [
    "# Linearization of a Gravity Drained Tank\n",
    "\n",
    "Classroom example, January 26, 2016\n",
    "\n",
    "This example demonstrates the key steps in simulating the behavior of a gravity drained tank.  The liquid height in the tank is described by a simple differential equation  \n",
    "\n",
    "$$A\\frac{dh}{dt} = q_{in} - q_{out}$$\n",
    "\n",
    "where $q_{out}$ is a function of liquid height known as Torricelli's law\n",
    "\n",
    "$$ q_{out} = C_v\\sqrt{h} $$\n",
    "\n",
    "In our standard state space form for a nonlinear ordinary differential equation\n",
    "\n",
    "$$ \\frac{dh}{dt} = \\frac{1}{A}q_{in} - \\frac{C_V}{A}\\sqrt{h}$$"
   ]
  },
  {
   "cell_type": "code",
   "execution_count": 12,
   "metadata": {
    "collapsed": true
   },
   "outputs": [],
   "source": [
    "from pylab import *\n",
    "from scipy.integrate import odeint\n",
    "%matplotlib inline"
   ]
  },
  {
   "cell_type": "markdown",
   "metadata": {},
   "source": [
    "## Step 1. Define parameters\n",
    "\n",
    "Provide values for all relevant parameters.  Use comments to describe the parameters and units."
   ]
  },
  {
   "cell_type": "code",
   "execution_count": 13,
   "metadata": {
    "collapsed": true
   },
   "outputs": [],
   "source": [
    "Cv  = 0.1     # Outlet valve constant [cubic meters/min/meter^1/2]\n",
    "A   = 2.0     # Tank area [meter^2]"
   ]
  },
  {
   "cell_type": "markdown",
   "metadata": {},
   "source": [
    "## Step 2. Nonlinear Simulation"
   ]
  },
  {
   "cell_type": "code",
   "execution_count": 14,
   "metadata": {
    "collapsed": true
   },
   "outputs": [],
   "source": [
    "def qin(t):\n",
    "    if t < 200.0:\n",
    "        return 0.15         # m**3/min\n",
    "    else:\n",
    "        return 0.15 + 0.01  # m**3/min\n",
    "    \n",
    "def func(y,t):\n",
    "    h = y\n",
    "    return qin(t)/A - Cv*sqrt(h)/A"
   ]
  },
  {
   "cell_type": "code",
   "execution_count": 15,
   "metadata": {
    "collapsed": false
   },
   "outputs": [
    {
     "data": {
      "image/png": "[encoded data removed]",
      "text/plain": [
       "<matplotlib.figure.Figure at 0x109582510>"
      ]
     },
     "metadata": {},
     "output_type": "display_data"
    }
   ],
   "source": [
    "IC = [0.0]\n",
    "t = linspace(0,400.0)\n",
    "\n",
    "y = odeint(func,IC,t)\n",
    "\n",
    "# visualization\n",
    "figure(figsize=(12,4))\n",
    "plot(t,y)\n",
    "xlabel('Time [min]')\n",
    "ylabel('Tank Level [m]')\n",
    "\n",
    "grid()"
   ]
  },
  {
   "cell_type": "markdown",
   "metadata": {
    "collapsed": true
   },
   "source": [
    "# Step 3. Steady State\n",
    "\n",
    "Given a nonlinear model\n",
    "\n",
    "$$\\frac{dh}{dt} = f(h,q)$$\n",
    "\n",
    "where $h$ is the state and $q$ is the inlet. Let $\\bar{q}$ be a nominal (i.e, typical) value. The steady-state value of $h$ is $\\bar{h}$ is that value which sets $\\frac{dh}{dt}$ to zero, in other words the solution to the equation\n",
    "\n",
    "$$f(\\bar{h},\\bar{q}) = 0$$\n",
    "\n",
    "In this case,\n",
    "\n",
    "$$\\frac{1}{A}\\bar{q}_{in} - \\frac{C_V}{A}\\sqrt{\\bar{h}} = 0$$\n",
    "\n",
    "which gives\n",
    "\n",
    "$$\\bar{h} = \\left(\\frac{\\bar{q}_{in}}{C_V}\\right)^2$$"
   ]
  },
  {
   "cell_type": "code",
   "execution_count": 30,
   "metadata": {
    "collapsed": false
   },
   "outputs": [
    {
     "name": "stdout",
     "output_type": "stream",
     "text": [
      "Steady State liquid level = 2.25 meters\n"
     ]
    }
   ],
   "source": [
    "from pylab import *\n",
    "from scipy.integrate import odeint\n",
    "%matplotlib inline\n",
    "\n",
    "Cv  = 0.1     # Outlet valve constant [cubic meters/min/meter^1/2]\n",
    "A   = 2.0     # Tank area [meter^2]\n",
    "\n",
    "qSS = 0.15            # nominal steady state value\n",
    "hSS = (qSS/Cv)**2     # corresponding steady state liquid level\n",
    "\n",
    "print \"Steady State liquid level =\", hSS, \"meters\""
   ]
  },
  {
   "cell_type": "code",
   "execution_count": 34,
   "metadata": {
    "collapsed": false
   },
   "outputs": [
    {
     "data": {
      "text/plain": [
       "<matplotlib.text.Text at 0x10de1fa90>"
      ]
     },
     "execution_count": 34,
     "metadata": {},
     "output_type": "execute_result"
    },
    {
     "data": {
      "image/png": "[encoded data removed]",
      "text/plain": [
       "<matplotlib.figure.Figure at 0x10dfa35d0>"
      ]
     },
     "metadata": {},
     "output_type": "display_data"
    }
   ],
   "source": [
    "def qin(t):\n",
    "    return qSS\n",
    "\n",
    "def func(y,t):\n",
    "    h = y\n",
    "    return qin(t)/A - Cv*sqrt(h)/A\n",
    "\n",
    "t = linspace(0,400.0)\n",
    "h = odeint(func,[0.0],t)\n",
    "\n",
    "\n",
    "subplot(2,1,1)\n",
    "plot(t,map(qin,t))\n",
    "title('Inlet Flow')\n",
    "xlabel('Time [min]')\n",
    "ylim(0,0.2)\n",
    "ylabel('Inlet Flow [cu. m/min]')\n",
    "\n",
    "subplot(2,1,2)\n",
    "plot(t,h)\n",
    "title('Outlet Flow')\n",
    "plot(t,hSS*ones(size(t)),'r--')\n",
    "xlabel('Time [min]')\n",
    "ylabel('Tank Level [m]')\n",
    "\n"
   ]
  },
  {
   "cell_type": "markdown",
   "metadata": {},
   "source": [
    "## Step 4. Define Deviation Variables\n",
    "\n",
    "Deviation variables provide the "
   ]
  },
  {
   "cell_type": "code",
   "execution_count": 36,
   "metadata": {
    "collapsed": false
   },
   "outputs": [
    {
     "data": {
      "text/plain": [
       "[<matplotlib.lines.Line2D at 0x10f0f40d0>]"
      ]
     },
     "execution_count": 36,
     "metadata": {},
     "output_type": "execute_result"
    },
    {
     "data": {
      "image/png": "[encoded data removed]",
      "text/plain": [
       "<matplotlib.figure.Figure at 0x10ea29ad0>"
      ]
     },
     "metadata": {},
     "output_type": "display_data"
    }
   ],
   "source": [
    "def qin(t):\n",
    "    if t > 100.0:\n",
    "        return qSS + 0.01  # m**3/min\n",
    "    else:\n",
    "        return qSS\n",
    "\n",
    "def func(y,t):\n",
    "    h = y\n",
    "    return qin(t)/A - Cv*sqrt(h)/A\n",
    "\n",
    "IC = [hSS]\n",
    "\n",
    "t = linspace(0,400.0)\n",
    "h = odeint(func,IC,t)\n",
    "\n",
    "subplot(2,1,1)\n",
    "plot(t,map(qin,t))\n",
    "title('Inlet Flow')\n",
    "plot(t,qSS*ones(size(t)),'r--')\n",
    "xlabel('Time [min]')\n",
    "ylim(0,0.2)\n",
    "ylabel('Inlet Flow [cu. m/min]')\n",
    "\n",
    "subplot(2,1,2)\n",
    "plot(t,h)\n",
    "title('Outlet Flow')\n",
    "plot(t,hSS*ones(size(t)),'r--')\n",
    "xlabel('Time [min]')\n",
    "ylabel('Tank Level [m]')\n",
    "\n",
    "\n",
    "\n",
    "a = -Cv*Cv/(2.0*A*qSS)\n",
    "b = 1/A\n",
    "\n",
    "tlin = t[t > 100]\n",
    "\n",
    "plot(tlin, hSS -(b/a)*(1-exp(a*(tlin-100.0)))*0.01)\n"
   ]
  },
  {
   "cell_type": "code",
   "execution_count": 8,
   "metadata": {
    "collapsed": true
   },
   "outputs": [],
   "source": [
    "from control.matlab import *\n",
    "from pylab import *\n"
   ]
  },
  {
   "cell_type": "code",
   "execution_count": 9,
   "metadata": {
    "collapsed": false
   },
   "outputs": [],
   "source": [
    "v = ss([1],[1],[1],[0])"
   ]
  },
  {
   "cell_type": "code",
   "execution_count": 10,
   "metadata": {
    "collapsed": false
   },
   "outputs": [
    {
     "ename": "TypeError",
     "evalue": "step() takes at least 2 arguments (1 given)",
     "output_type": "error",
     "traceback": [
      "\u001b[0;31m---------------------------------------------------------------------------\u001b[0m",
      "\u001b[0;31mTypeError\u001b[0m                                 Traceback (most recent call last)",
      "\u001b[0;32m<ipython-input-10-883ff0b427a3>\u001b[0m in \u001b[0;36m<module>\u001b[0;34m()\u001b[0m\n\u001b[0;32m----> 1\u001b[0;31m \u001b[0mplot\u001b[0m\u001b[0;34m(\u001b[0m\u001b[0mstep\u001b[0m\u001b[0;34m(\u001b[0m\u001b[0mv\u001b[0m\u001b[0;34m)\u001b[0m\u001b[0;34m)\u001b[0m\u001b[0;34m\u001b[0m\u001b[0m\n\u001b[0m",
      "\u001b[0;31mTypeError\u001b[0m: step() takes at least 2 arguments (1 given)"
     ]
    }
   ],
   "source": [
    "plot(step(v))"
   ]
  },
  {
   "cell_type": "code",
   "execution_count": null,
   "metadata": {
    "collapsed": true
   },
   "outputs": [],
   "source": []
  }
 ],
 "metadata": {
  "anaconda-cloud": {},
  "kernelspec": {
   "display_name": "Python [conda root]",
   "language": "python",
   "name": "conda-root-py"
  },
  "language_info": {
   "codemirror_mode": {
    "name": "ipython",
    "version": 3
   },
   "file_extension": ".py",
   "mimetype": "text/x-python",
   "name": "python",
   "nbconvert_exporter": "python",
   "pygments_lexer": "ipython3",
   "version": "3.5.2"
  }
 },
 "nbformat": 4,
 "nbformat_minor": 0
}
