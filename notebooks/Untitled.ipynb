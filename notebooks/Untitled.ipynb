{
 "cells": [
  {
   "cell_type": "code",
   "execution_count": 1,
   "metadata": {},
   "outputs": [
    {
     "name": "stdout",
     "output_type": "stream",
     "text": [
      "Collecting package metadata (current_repodata.json): done\n",
      "Solving environment: done\n",
      "\n",
      "## Package Plan ##\n",
      "\n",
      "  environment location: /Users/jeff/opt/anaconda3\n",
      "\n",
      "  added / updated specs:\n",
      "    - control\n",
      "\n",
      "\n",
      "The following packages will be downloaded:\n",
      "\n",
      "    package                    |            build\n",
      "    ---------------------------|-----------------\n",
      "    ca-certificates-2019.11.28 |       hecc5488_0         145 KB  conda-forge\n",
      "    certifi-2019.11.28         |           py37_0         148 KB  conda-forge\n",
      "    conda-4.8.2                |           py37_0         3.0 MB  conda-forge\n",
      "    control-0.8.3              |           py37_0         350 KB  conda-forge\n",
      "    libopenblas-0.3.7          |       hd44dcd8_1         8.4 MB  conda-forge\n",
      "    openblas-0.3.7             |       hd44dcd8_1         9.2 MB  conda-forge\n",
      "    openssl-1.1.1d             |       h0b31af3_0         1.9 MB  conda-forge\n",
      "    slycot-0.3.5.0             |   py37h82d0005_0         1.1 MB  conda-forge\n",
      "    ------------------------------------------------------------\n",
      "                                           Total:        24.2 MB\n",
      "\n",
      "The following NEW packages will be INSTALLED:\n",
      "\n",
      "  control            conda-forge/osx-64::control-0.8.3-py37_0\n",
      "  libopenblas        conda-forge/osx-64::libopenblas-0.3.7-hd44dcd8_1\n",
      "  openblas           conda-forge/osx-64::openblas-0.3.7-hd44dcd8_1\n",
      "  slycot             conda-forge/osx-64::slycot-0.3.5.0-py37h82d0005_0\n",
      "\n",
      "The following packages will be UPDATED:\n",
      "\n",
      "  ca-certificates    pkgs/main::ca-certificates-2019.11.27~ --> conda-forge::ca-certificates-2019.11.28-hecc5488_0\n",
      "  conda                       pkgs/main::conda-4.8.1-py37_0 --> conda-forge::conda-4.8.2-py37_0\n",
      "\n",
      "The following packages will be SUPERSEDED by a higher-priority channel:\n",
      "\n",
      "  certifi                                         pkgs/main --> conda-forge\n",
      "  openssl              pkgs/main::openssl-1.1.1d-h1de35cc_3 --> conda-forge::openssl-1.1.1d-h0b31af3_0\n",
      "\n",
      "\n",
      "\n",
      "Downloading and Extracting Packages\n",
      "openssl-1.1.1d       | 1.9 MB    | ##################################### | 100% \n",
      "libopenblas-0.3.7    | 8.4 MB    | ##################################### | 100% \n",
      "openblas-0.3.7       | 9.2 MB    | ##################################### | 100% \n",
      "ca-certificates-2019 | 145 KB    | ##################################### | 100% \n",
      "certifi-2019.11.28   | 148 KB    | ##################################### | 100% \n",
      "conda-4.8.2          | 3.0 MB    | ##################################### | 100% \n",
      "control-0.8.3        | 350 KB    | ##################################### | 100% \n",
      "slycot-0.3.5.0       | 1.1 MB    | ##################################### | 100% \n",
      "Preparing transaction: done\n",
      "Verifying transaction: done\n",
      "Executing transaction: done\n"
     ]
    }
   ],
   "source": [
    "!conda install -c conda-forge control -y"
   ]
  },
  {
   "cell_type": "code",
   "execution_count": null,
   "metadata": {},
   "outputs": [],
   "source": []
  }
 ],
 "metadata": {
  "kernelspec": {
   "display_name": "Python 3",
   "language": "python",
   "name": "python3"
  },
  "language_info": {
   "codemirror_mode": {
    "name": "ipython",
    "version": 3
   },
   "file_extension": ".py",
   "mimetype": "text/x-python",
   "name": "python",
   "nbconvert_exporter": "python",
   "pygments_lexer": "ipython3",
   "version": "3.7.4"
  }
 },
 "nbformat": 4,
 "nbformat_minor": 2
}
