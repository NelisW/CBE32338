{
 "cells": [
  {
   "cell_type": "markdown",
   "metadata": {},
   "source": [
    "# Laboratory Session 4. Open and Closed Loop Estimation\n",
    "\n",
    "This notebook outlines three experiments to be performed using the TCLab hardware. This first cell imports necessary libraries, defines a relay control as a Python generator, and a temperature setpoint."
   ]
  },
  {
   "cell_type": "code",
   "execution_count": null,
   "metadata": {},
   "outputs": [],
   "source": [
    "%matplotlib inline\n",
    "import numpy as np\n",
    "import matplotlib.pyplot as plt\n",
    "import control\n",
    "import pandas as pd\n",
    "\n",
    "# Relay Control\n",
    "def relay(Qmin, Qmax):\n",
    "    Q = 0\n",
    "    while True:\n",
    "        Tsp, T = yield Q\n",
    "        Q = Qmax if T < Tsp else Qmin\n",
    "        \n",
    "\n",
    "# Temperature Setpoint\n",
    "def Tsp(t):\n",
    "    tp = [  0,  200,  300,  500,  700, 9999]\n",
    "    Tp = [ 50,   50,   40,   40,   50,   50]\n",
    "    return np.interp(t, tp, Tp)\n",
    "\n",
    "t = np.linspace(0, 800, 801)\n",
    "plt.plot(t, Tsp(t))\n",
    "plt.title('Temperature Setpoint')"
   ]
  },
  {
   "cell_type": "markdown",
   "metadata": {},
   "source": [
    "## Experiment 1. Open-Loop State Estimation and Relay Control\n",
    "\n",
    "In this first experiment, use a closed loop estimator and relay control to cause the heater to track a desired temperature setpoint. Perform the following tasks:\n",
    "\n",
    "**a.**) This code was cut and paste from Thursday's lecture. Adjust the setup to interface with the lab device rather than simuation.\n",
    "\n",
    "**b.**) When you run the experiment, for the first 400 seconds keep the Arduino/TCLab device carefully shielded from any air currents. For example, you might use the plastic lab kit as a shield.  Once you have established operation for about 400 seconds, move the Arduino/TCLab to an open area where it will be subject to air currents.  If needed, use a sheet of paper to fan some air over the device.  \n",
    "\n",
    "**c.**) Describe what you see. Does the controller track the setpoint?  Does the controller reject disturbances?  Explain why this system displays the behavior you're seeing."
   ]
  },
  {
   "cell_type": "markdown",
   "metadata": {},
   "source": [
    "#### Open Loop Estimation"
   ]
  },
  {
   "cell_type": "code",
   "execution_count": null,
   "metadata": {},
   "outputs": [],
   "source": [
    "import numpy as np\n",
    "import control \n",
    "\n",
    "def tclab():\n",
    "    # parameter estimates\n",
    "    P =  0.04             # power input when the system is turned\n",
    "    Ua = 0.068            # heat transfer coefficient from heater to environment\n",
    "    CpH = 6.50            # heat capacity of the heater (J/deg C)\n",
    "    CpS = 1.25            # heat capacity of the sensor (J/deg C)\n",
    "    Uc = 0.036            # heat transfer coefficient from heater to sensor\n",
    "    Tamb = 21             # ambient room temperature\n",
    "\n",
    "    # state space model\n",
    "    A = [[-(Ua + Uc)/CpH, Uc/CpH], [Uc/CpS, -Uc/CpS]]\n",
    "    B = [[P/CpH], [0]] # single column\n",
    "    C = [[0, 1]]   # single row\n",
    "    D = [[0]]\n",
    "\n",
    "    # initialize variables that will be updated in time\n",
    "    t = 0\n",
    "    x = np.array([0, 0])\n",
    "    \n",
    "    while True:\n",
    "        # yield the heater temperature to the calling program\n",
    "        Th = x[0] + Tamb\n",
    "        Ts = x[1] + Tamb\n",
    "        tnext, Q, T1 = yield Th, Ts\n",
    "        dt = tnext - t\n",
    "        x = x + dt*np.dot(A, x) + dt*np.dot(B, [Q])\n",
    "        t = tnext"
   ]
  },
  {
   "cell_type": "markdown",
   "metadata": {},
   "source": [
    "#### Event Loop"
   ]
  },
  {
   "cell_type": "code",
   "execution_count": null,
   "metadata": {
    "scrolled": false
   },
   "outputs": [],
   "source": [
    "from tclab import setup, clock, Historian, Plotter\n",
    "TCLab = setup(connected=False, speedup=20)\n",
    "\n",
    "tf = 800        # run time\n",
    "\n",
    "# create a controller instance\n",
    "controller = relay(0, 80)\n",
    "controller.send(None)\n",
    "\n",
    "# create an model estimator\n",
    "estimator = tclab()\n",
    "estimator.send(None)\n",
    "\n",
    "# execute the event loop\n",
    "tf = 800\n",
    "with TCLab() as lab:\n",
    "    h = Historian([('SP', lambda: Tsp(t)), ('T1', lambda: lab.T1), ('Q1', lab.Q1),\n",
    "                   ('Th', lambda: Th), ('Ts', lambda: Ts), ('T1-Ts', lambda: T1-Ts)])\n",
    "    p = Plotter(h, tf)\n",
    "    U1 = 0\n",
    "    for t in clock(tf, 2):                    # allow time for more calculations\n",
    "        T1 = lab.T1                           # measure the sensor temperature\n",
    "        Th, Ts = estimator.send([t, U1, T1])  # estimate the heater temperature\n",
    "        SP = Tsp(t)                           # get setpoint\n",
    "        U1 = controller.send([SP, Th])        # compute control action\n",
    "        lab.U1 = U1                           # set manipulated variable  \n",
    "        p.update(t)                           # log data"
   ]
  },
  {
   "cell_type": "markdown",
   "metadata": {},
   "source": [
    "## Experiment 2. Closed-Loop State Estimation and Relay Control\n",
    "\n",
    "In the second experiment, use a closed loop estimator and relay control to cause the heater to track a desired temperature setpoint. \n",
    "\n",
    "Before performing the experiment, you will need to determine suitable values for the observer gain $L$.  $L$ is a matrix consisting of two rows and one column.  You need to choose the values in $L$ such that $A-LC$ is stable and has acceptable time constants. For this experiment, try\n",
    "\n",
    "\\begin{align*}\n",
    "L & = \\begin{bmatrix} 0.6 \\\\ 0.3 \\end{bmatrix}\n",
    "\\end{align*}\n",
    "\n",
    "**a.**) Before starting the experiment, compute the eigenvalues and corresponding time constants of $A$ and of $A-LC$. \n",
    "\n",
    "**b.**) Then repeat the same tasks for Experiment 1, but this time use a closed-loop estimator. In your answers, be sure to describe how the results of this experiment differ from the first, and explain why.\n",
    "\n",
    "**c.**) Then repeat the experiment with gains twice as large."
   ]
  },
  {
   "cell_type": "markdown",
   "metadata": {},
   "source": [
    "#### Review of Closed Loop Estimation\n",
    "\n",
    "Examining the results, we see the predicted heater temperature appears to track the desired setpoint, but the sensor temperature is off the mark. This could be due several factors, most likely model error.\n",
    "\n",
    "Process\n",
    "\\begin{align*}\n",
    "\\frac{dx}{dt} & = A x + B u \\\\\n",
    "y & = C x + D u\n",
    "\\end{align*}\n",
    "\n",
    "Model\n",
    "\\begin{align*}\n",
    "\\frac{d\\hat{x}}{dt} & = A \\hat{x} + B u \\\\\n",
    "\\hat{y} & = C \\hat{x} + D u\n",
    "\\end{align*}\n",
    "\n",
    "If the measured and estimated outputs are different, then $y - \\hat{y} \\neq 0$. Taking the difference we find\n",
    "\n",
    "\\begin{align*}\n",
    "y - \\hat{y} & = C x + Du - C\\hat{x} - Du \\\\\n",
    "& = C(x - \\hat{x})\n",
    "\\end{align*}\n",
    "\n",
    "The difference $y - \\hat{y}$ can be observed.  But what we want is to make $x - \\hat{x}$ small. Is there way to use knowledge of $y - \\hat{y}$ to reduce $x - \\hat{x}$?\n",
    "\n",
    "The technique is to introduce feedback $L(y-\\hat{y})$ to the model.  \n",
    "\n",
    "\\begin{align*}\n",
    "\\frac{d\\hat{x}}{dt} & = A \\hat{x} + B u + L(y - \\hat{y}) \\\\\n",
    "\\hat{y} & = C \\hat{x} + D u\n",
    "\\end{align*}\n",
    "\n",
    "Subtracting the new model equations from the process model, we get an expression for the dynamics of the model error $e = x - \\hat{x]$\n",
    "\n",
    "\\begin{align*}\n",
    "\\frac{de}{dt} & = \\frac{dx}{dt} - \\frac{d\\hat{x}}{dt} \\\\\n",
    "\\\\\n",
    "& = (Ax + Bu) - (A\\hat{x} + Bu + L(Cx - C\\hat{x})) \\\\\n",
    "\\\\\n",
    "& = (A - LC)(x -\\hat{x}) \\\\\n",
    "\\\\\n",
    "\\frac{de}{dt} & = (A - LC) e\n",
    "\\end{align*}\n",
    "\n",
    "The choice of $L$ determines observer performance."
   ]
  },
  {
   "cell_type": "markdown",
   "metadata": {},
   "source": [
    "#### Choosing $L$"
   ]
  },
  {
   "cell_type": "code",
   "execution_count": 13,
   "metadata": {},
   "outputs": [
    {
     "name": "stdout",
     "output_type": "stream",
     "text": [
      "Time Constants of A are: [121.33951135  27.35329911] seconds\n",
      "Time Constants of A are: [11.53090384  3.87481962] seconds\n"
     ]
    }
   ],
   "source": [
    "import numpy as np\n",
    "\n",
    "P =  0.04             # power input when the system is turned\n",
    "Ua = 0.068            # heat transfer coefficient from heater to environment\n",
    "CpH = 6.50            # heat capacity of the heater (J/deg C)\n",
    "CpS = 1.25            # heat capacity of the sensor (J/deg C)\n",
    "Uc = 0.036            # heat transfer coefficient from heater to sensor\n",
    "Tamb = 21             # ambient room temperature\n",
    "\n",
    "# state space model\n",
    "A = [[-(Ua + Uc)/CpH, Uc/CpH], [Uc/CpS, -Uc/CpS]]\n",
    "C = [[0, 1]]   # single row\n",
    "L = [[0.6], [0.3]]\n",
    "\n",
    "evals, evecs = np.linalg.eig(A)\n",
    "print('Time Constants of A are:', -1/evals, 'seconds')\n",
    "\n",
    "evals, evecs = np.linalg.eig(A - np.dot(L,C))\n",
    "print('Time Constants of A are:', -1/evals, 'seconds')"
   ]
  },
  {
   "cell_type": "code",
   "execution_count": null,
   "metadata": {},
   "outputs": [],
   "source": [
    "import numpy as np\n",
    "import control \n",
    "\n",
    "def tclab():\n",
    "    # parameter estimates\n",
    "    P =  0.04             # power input when the system is turned\n",
    "    Ua = 0.068            # heat transfer coefficient from heater to environment\n",
    "    CpH = 6.50            # heat capacity of the heater (J/deg C)\n",
    "    CpS = 1.25            # heat capacity of the sensor (J/deg C)\n",
    "    Uc = 0.036            # heat transfer coefficient from heater to sensor\n",
    "    Tamb = 21             # ambient room temperature\n",
    "\n",
    "    # state space model\n",
    "    A = [[-(Ua + Uc)/CpH, Uc/CpH], [Uc/CpS, -Uc/CpS]]\n",
    "    B = [[P/CpH], [0]] # single column\n",
    "    C = [[0, 1]]   # single row\n",
    "    D = [[0]]\n",
    "\n",
    "    # initialize variables that will be updated in time\n",
    "    t = 0\n",
    "    x = np.array([0, 0])\n",
    "    \n",
    "    # observer gain ... put your values here!\n",
    "    L = [[????], [????]]\n",
    "    \n",
    "    while True:\n",
    "        # yield the heater temperature to the calling program\n",
    "        Th = x[0] + Tamb\n",
    "        Ts = x[1] + Tamb\n",
    "        tnext, Q, T1 = yield Th, Ts\n",
    "        dt = tnext - t\n",
    "        x = x + dt*np.dot(A, x) + dt*np.dot(B, [Q]) + dt*np.dot(L, [T1-Ts])\n",
    "        t = tnext"
   ]
  },
  {
   "cell_type": "code",
   "execution_count": null,
   "metadata": {
    "scrolled": false
   },
   "outputs": [],
   "source": [
    "from tclab import setup, clock, Historian, Plotter\n",
    "TCLab = setup(connected=False, speedup=20)\n",
    "\n",
    "tf = 800        # run time\n",
    "\n",
    "# create a controller instance\n",
    "controller = relay(0, 80)\n",
    "controller.send(None)\n",
    "\n",
    "# create an model estimator\n",
    "estimator = tclab()\n",
    "estimator.send(None)\n",
    "\n",
    "# execute the event loop\n",
    "tf = 800\n",
    "with TCLab() as lab:\n",
    "    h = Historian([('SP', lambda: Tsp(t)), ('T1', lambda: lab.T1), ('Q1', lab.Q1),\n",
    "                   ('Th', lambda: Th), ('Ts', lambda: Ts), ('T1-Ts', lambda: T1-Ts)])\n",
    "    p = Plotter(h, tf)\n",
    "    U1 = 0\n",
    "    for t in clock(tf, 2):                    # allow time for more calculations\n",
    "        T1 = lab.T1                           # measure the sensor temperature\n",
    "        Th, Ts = estimator.send([t, U1, T1])  # estimate the heater temperature\n",
    "        SP = Tsp(t)                           # get setpoint\n",
    "        U1 = controller.send([SP, Th])        # compute control action\n",
    "        lab.U1 = U1                           # set manipulated variable  \n",
    "        p.update(t)                           # log data"
   ]
  },
  {
   "cell_type": "markdown",
   "metadata": {},
   "source": [
    "## Experiment 3. Closed-Loop State Estimation and Relay Control\n",
    "\n",
    "Then repeat the experiment with gains twice as large. Report the time constants for the observer. Did you see a substantive change in controller performance."
   ]
  },
  {
   "cell_type": "code",
   "execution_count": null,
   "metadata": {},
   "outputs": [],
   "source": []
  }
 ],
 "metadata": {
  "kernelspec": {
   "display_name": "Python 3",
   "language": "python",
   "name": "python3"
  },
  "language_info": {
   "codemirror_mode": {
    "name": "ipython",
    "version": 3
   },
   "file_extension": ".py",
   "mimetype": "text/x-python",
   "name": "python",
   "nbconvert_exporter": "python",
   "pygments_lexer": "ipython3",
   "version": "3.6.8"
  }
 },
 "nbformat": 4,
 "nbformat_minor": 2
}
