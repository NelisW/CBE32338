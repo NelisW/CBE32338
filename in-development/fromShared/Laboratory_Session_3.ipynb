{
 "cells": [
  {
   "cell_type": "markdown",
   "metadata": {},
   "source": [
    "# Laboratory Session 3\n",
    "\n",
    "February 8, 2019"
   ]
  },
  {
   "cell_type": "markdown",
   "metadata": {},
   "source": [
    "## Class Summary\n",
    "\n",
    "The following notes summarize the material covered in Thurday's (2/7/2019) lecture. This is a fully commented version of the code developed in class demonstrating a proportional feedback controller.  The setup command has been commented out, so this requires the Arduino hardware to be connected to your laptop."
   ]
  },
  {
   "cell_type": "code",
   "execution_count": 10,
   "metadata": {},
   "outputs": [
    {
     "data": {
      "image/png": "[encoded data removed]",
      "text/plain": [
       "<Figure size 640x240 with 2 Axes>"
      ]
     },
     "metadata": {},
     "output_type": "display_data"
    },
    {
     "name": "stdout",
     "output_type": "stream",
     "text": [
      "TCLab disconnected successfully.\n"
     ]
    },
    {
     "data": {
      "image/png": "[encoded data removed]",
      "text/plain": [
       "<Figure size 640x240 with 2 Axes>"
      ]
     },
     "metadata": {
      "needs_background": "light"
     },
     "output_type": "display_data"
    }
   ],
   "source": [
    "%matplotlib inline\n",
    "\n",
    "from tclab import clock, Historian, Plotter, setup, TCLab\n",
    "#TCLab = setup(connected=False, speedup=10)\n",
    "\n",
    "T_setpoint = 30       # temperature setpoint\n",
    "MV_feedforward = 0    # estimated power level need to maintain\n",
    "                      # the heater at the setpoint\n",
    "Kp = 50               # proportional control constant\n",
    "\n",
    "with TCLab() as lab:                                           # open a connection to the Arduino\n",
    "    h = Historian(lab.sources)                                 # setup historian\n",
    "    p = Plotter(h, twindow=350)                                # setup plotter\n",
    "    for t in clock(300):                                       # perform experiment for 300 seconds (5 min)\n",
    "        MV = MV_feedforward - Kp*(lab.T1 - T_setpoint)         # control rule\n",
    "        MV = max(0, min(100, MV))                              # limit value to between 0 and 100\n",
    "        lab.Q1(MV)                                             # send command to Arduino\n",
    "        p.update(t)                                            # update the plotting window\n",
    "        \n",
    "h.to_csv('expt_1.csv')                                         # save data to a file"
   ]
  },
  {
   "cell_type": "markdown",
   "metadata": {},
   "source": [
    "## Lab Exercise 1: Effect of Setpoint Changes\n",
    "\n",
    "Cut and past the model code into the cell below. Modify the code to adjust the setpoint to 50 deg C and set the proportional control constant to 40. How is the response change?"
   ]
  },
  {
   "cell_type": "code",
   "execution_count": null,
   "metadata": {},
   "outputs": [],
   "source": []
  },
  {
   "cell_type": "markdown",
   "metadata": {},
   "source": [
    "### Your comments:\n",
    "\n",
    "Write a summary of your observations in the following text cell. How well did the controller perform?  In particular, how 'fast' was the controlled response? Did the temperature actually get to 50 deg C? If not, how much offset did you observe?"
   ]
  },
  {
   "cell_type": "markdown",
   "metadata": {},
   "source": []
  },
  {
   "cell_type": "markdown",
   "metadata": {},
   "source": [
    "## Lab Exercise 2: Effect of Feedforward Control\n",
    "\n",
    "Feedforward control augments the control by trying to predict the control action needed to acheive a particular setpoint response. \n",
    "\n",
    "Cut and paste your code from Exercise 1 into the cell below. Modify the code to provide a feedforward control MV_feedforward equal to $\\frac{P_1}{U_a}(T_{setpoint} - T_{ambient})$ where the value \\frac{P_1}{U_a}$ = 1.6. (IF you have values you determined from last week's lab, feel free to use those.)"
   ]
  },
  {
   "cell_type": "code",
   "execution_count": null,
   "metadata": {},
   "outputs": [],
   "source": []
  },
  {
   "cell_type": "markdown",
   "metadata": {},
   "source": [
    "### Your comments:\n",
    "\n",
    "Write a summary of your observations in the following text cell. How well did the controller perform?  In particular, how 'fast' was the controlled response? Did the temperature actually get to 50 deg C? If not, how much offset did you observe?"
   ]
  },
  {
   "cell_type": "markdown",
   "metadata": {},
   "source": []
  },
  {
   "cell_type": "markdown",
   "metadata": {},
   "source": [
    "## Lab Exercise 3: Thermostat Control\n",
    "\n",
    "Cut and paste your code from Exercise 1 into the cell below. Modify the code to provide thermostat control rather than proportational feedback.  How well does it perform? If you don't have enough time to finish in lab, use the simulation mode to complete this exercise."
   ]
  },
  {
   "cell_type": "code",
   "execution_count": null,
   "metadata": {},
   "outputs": [],
   "source": []
  },
  {
   "cell_type": "markdown",
   "metadata": {},
   "source": [
    "### Your comments:"
   ]
  },
  {
   "cell_type": "markdown",
   "metadata": {},
   "source": []
  },
  {
   "cell_type": "code",
   "execution_count": null,
   "metadata": {},
   "outputs": [],
   "source": []
  }
 ],
 "metadata": {
  "kernelspec": {
   "display_name": "Python 3",
   "language": "python",
   "name": "python3"
  },
  "language_info": {
   "codemirror_mode": {
    "name": "ipython",
    "version": 3
   },
   "file_extension": ".py",
   "mimetype": "text/x-python",
   "name": "python",
   "nbconvert_exporter": "python",
   "pygments_lexer": "ipython3",
   "version": "3.6.8"
  }
 },
 "nbformat": 4,
 "nbformat_minor": 2
}
