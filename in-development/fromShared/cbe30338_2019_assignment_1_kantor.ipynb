{
 "cells": [
  {
   "cell_type": "markdown",
   "metadata": {},
   "source": [
    "# Assignment 1\n",
    "\n",
    "## Instructions\n",
    "\n",
    "For this first assignment you will submit a Jupyter notebook meeting the following specifications. The submission consists of the just the notebook which can be uploaded as a .ipynb file. To facilitate grading, please carefully follow the instructions regarding the name of the notebook.\n",
    "\n",
    "1. Create a Jupyter/Python notebook in Anaconda. Save this with the file name `cbe30338_2019_assignment_1_yourlastname.ipynb`.  For example, my submission would be named `cbe30338_2019_assignment_1_kantor.ipynb`.  The following cells should be present:\n",
    "    * A title cell with level one header.  Name the notebook.\n",
    "    * A text cell with your name\n",
    "    * A third text cell with a second level header label 'Problem 1'\n",
    "    * A code cell that returns the name of your laptop.  It should contain the code\n",
    "\n",
    "```python\n",
    "        import platform\n",
    "        print(platform.node())\n",
    "```\n",
    "    \n",
    "2. To the same notebook, add a text cell with second level header 'Problem 2'.  Add suitable text describing what you are about to do.  The following code cell should plot the function `10 + K*sin(omega*t)*exp(-t/tau)`  where K = 3,  omega is 2 rad/sec, and tau is 4 seconds over the range 0 to 20 seconds. The values for constants should be explicitly included in the code.  The resulting plot should label the y-axis as `temperature / C`, the x-axis as 'time / sec'. Both the x and y axes should begin at 0.  Overlay a dashed line of a different color with a y value of 10 representing the controller setpoint. Add a legend to the plot. Use enough points to produce a smooth plot of the function.\n"
   ]
  },
  {
   "cell_type": "markdown",
   "metadata": {},
   "source": [
    "## Solutions"
   ]
  },
  {
   "cell_type": "markdown",
   "metadata": {},
   "source": [
    "# Assignment 1"
   ]
  },
  {
   "cell_type": "markdown",
   "metadata": {},
   "source": [
    "Jeffrey Kantor"
   ]
  },
  {
   "cell_type": "markdown",
   "metadata": {},
   "source": [
    "## Problem 1"
   ]
  },
  {
   "cell_type": "code",
   "execution_count": 4,
   "metadata": {},
   "outputs": [
    {
     "name": "stdout",
     "output_type": "stream",
     "text": [
      "jeffreys-mbp.dhcp.nd.edu\n"
     ]
    }
   ],
   "source": [
    "import platform\n",
    "print(platform.node())"
   ]
  },
  {
   "cell_type": "markdown",
   "metadata": {},
   "source": [
    "## Problem 2"
   ]
  },
  {
   "cell_type": "markdown",
   "metadata": {},
   "source": [
    "The following cell will plot the function `10 + K*sin(omega*t)*exp(-t/tau)` over the range 0 to 20 seconds where K = 3,  omega is 2 rad/sec, and tau is 4 seconds."
   ]
  },
  {
   "cell_type": "code",
   "execution_count": 3,
   "metadata": {},
   "outputs": [
    {
     "data": {
      "text/plain": [
       "<matplotlib.legend.Legend at 0x11b6e9240>"
      ]
     },
     "execution_count": 3,
     "metadata": {},
     "output_type": "execute_result"
    },
    {
     "data": {
      "image/png": "[encoded data removed]",
      "text/plain": [
       "<Figure size 432x288 with 1 Axes>"
      ]
     },
     "metadata": {
      "needs_background": "light"
     },
     "output_type": "display_data"
    }
   ],
   "source": [
    "%matplotlib inline\n",
    "\n",
    "from math import *\n",
    "import matplotlib.pyplot as plt\n",
    "import numpy as np\n",
    "\n",
    "# parameter values\n",
    "K = 2\n",
    "omega = 2      # radians/sec\n",
    "tau = 4        # seconds\n",
    "\n",
    "# time grid\n",
    "t = np.linspace(0, 20, num=200)\n",
    "\n",
    "# compute temperature\n",
    "T = 10 + K*np.sin(omega*t)*np.exp(-t/tau)\n",
    "\n",
    "# plot\n",
    "plt.plot(t, T, 'b', t, 10*np.ones(len(t)), 'r--')\n",
    "\n",
    "# label axes\n",
    "plt.xlabel('time / sec')\n",
    "plt.ylabel('temperature / C')\n",
    "\n",
    "# set y axis limit\n",
    "plt.ylim(0, max(T))\n",
    "\n",
    "# add legend\n",
    "plt.legend(['Temperature function','Controller Setpoint'])"
   ]
  },
  {
   "cell_type": "code",
   "execution_count": null,
   "metadata": {},
   "outputs": [],
   "source": []
  }
 ],
 "metadata": {
  "kernelspec": {
   "display_name": "Python 3",
   "language": "python",
   "name": "python3"
  },
  "language_info": {
   "codemirror_mode": {
    "name": "ipython",
    "version": 3
   },
   "file_extension": ".py",
   "mimetype": "text/x-python",
   "name": "python",
   "nbconvert_exporter": "python",
   "pygments_lexer": "ipython3",
   "version": "3.6.8"
  }
 },
 "nbformat": 4,
 "nbformat_minor": 2
}
