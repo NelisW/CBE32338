{
 "cells": [
  {
   "cell_type": "markdown",
   "metadata": {},
   "source": [
    "# DES Simulation of a Chemical Process"
   ]
  },
  {
   "cell_type": "code",
   "execution_count": 186,
   "metadata": {
    "collapsed": true
   },
   "outputs": [],
   "source": [
    "%matplotlib inline\n",
    "import matplotlib.pyplot as plt\n",
    "\n",
    "import simpy\n",
    "import itertools\n",
    "import random\n",
    "import pandas as pd"
   ]
  },
  {
   "cell_type": "markdown",
   "metadata": {},
   "source": [
    "Customer orders consist of orders for single batches. The orders arrive, on average, every 115 +/- 30 minutes uniformly distributed."
   ]
  },
  {
   "cell_type": "code",
   "execution_count": null,
   "metadata": {
    "collapsed": true
   },
   "outputs": [],
   "source": [
    "log = dict()\n",
    "\n",
    "def writeLog(env, orderID, stage, event):\n",
    "    log[(orderID,stage,event)] = env.now\n",
    "\n",
    "# order generator\n",
    "def order_generator(env,reactor_queue):\n",
    "    orderID = 0\n",
    "    while True:\n",
    "        yield env.timeout(random.uniform(115-30,115+30))\n",
    "        orderID += 1\n",
    "        yield reactor_queue.put(orderID)\n",
    "        writeLog(env, orderID, 'Stage 0', 'Queue')\n",
    "        \n",
    "def batch_reactor(name, env, reactor_queue, storage_tank):\n",
    "    while True:\n",
    "        orderID = yield reactor_queue.get()\n",
    "        writeLog(env, orderID, 'Stage 1', name)\n",
    "        t = env.now\n",
    "        yield env.timeout(random.uniform(335-60,335+60))\n",
    "        writeLog(env, orderID, 'Stage 2', name)\n",
    "        yield storage_tank.put(orderID)\n",
    "        writeLog(env, orderID, 'Stage 3', 'Storage')\n",
    "\n",
    "def batch_still(name, env, storage_tank):\n",
    "    while True:\n",
    "        orderID = yield storage_tank.get()\n",
    "        writeLog(env, orderID, 'Stage 4', name)\n",
    "        yield env.timeout(random.uniform(110-25,110+25))\n",
    "        writeLog(env, orderID, 'Stage 5', 'complete')\n",
    "\n",
    "env = simpy.Environment()\n",
    "reactor_queue = simpy.Store(env)\n",
    "storage_tank = simpy.Store(env,1)\n",
    "\n",
    "reactors = ['Reactor A','Reactor B','Reactor C']\n",
    "stills = ['Still A']\n",
    "\n",
    "env.process(order_generator(env,reactor_queue))\n",
    "[env.process(batch_reactor(i,env,reactor_queue,storage_tank)) for i in reactors]\n",
    "[env.process(batch_still(i, env,storage_tank)) for i in stills\n",
    "env.run(until=12000)"
   ]
  },
  {
   "cell_type": "markdown",
   "metadata": {},
   "source": [
    "## Simulation Results"
   ]
  },
  {
   "cell_type": "code",
   "execution_count": 193,
   "metadata": {
    "collapsed": false,
    "scrolled": true
   },
   "outputs": [
    {
     "name": "stdout",
     "output_type": "stream",
     "text": [
      "Mean Order Completion =  517.9 min.\n",
      "\n",
      "Mean Time in Process Stages:\n",
      "\n",
      "     Reactor Queue =   40.4 min.\n",
      "          Reactors =  336.7 min.\n",
      "    Reactor Holdup =    0.5 min.\n",
      "           Storage =   32.5 min.\n",
      "             Still =  107.8 min.\n",
      "\n",
      "Utilization\n",
      "\n",
      "Reactor Utilization = 0.976\n",
      "  Still Utilization = 0.935\n"
     ]
    }
   ],
   "source": [
    "df = pd.DataFrame([[a,b,c,log[(a,b,c)]] for (a,b,c) in log.keys()])\n",
    "df = df.pivot(index=0,columns=1,values=3).reset_index()\n",
    "df = df.set_index([0]).dropna()\n",
    "df.index.rename('OrderID',inplace=True)\n",
    "\n",
    "stage1 = df['Stage 1']-df['Stage 0']\n",
    "stage2 = df['Stage 2']-df['Stage 1']\n",
    "stage3 = df['Stage 3']-df['Stage 2']\n",
    "stage4 = df['Stage 4']-df['Stage 3']\n",
    "stage5 = df['Stage 5']-df['Stage 4']\n",
    "\n",
    "print('Mean Order Completion = {0:6.1f} min.\\n'.format((df['Stage 5'] - df['Stage 0']).mean()))\n",
    "\n",
    "print('Mean Time in Process Stages:\\n')\n",
    "print('     Reactor Queue = {0:6.1f} min.'.format(stage1.mean()))\n",
    "print('          Reactors = {0:6.1f} min.'.format(stage2.mean()))\n",
    "print('    Reactor Holdup = {0:6.1f} min.'.format(stage3.mean()))\n",
    "print('           Storage = {0:6.1f} min.'.format(stage4.mean()))\n",
    "print('             Still = {0:6.1f} min.'.format(stage5.mean()))\n",
    "\n",
    "print('\\nUtilization\\n')\n",
    "print('Reactor Utilization = {0:5.3f}'.format(stage2.sum()/3.0/(df['Stage 2'].max()-df['Stage 2'].min())))\n",
    "print('  Still Utilization = {0:5.3f}'.format(stage5.sum()/(df['Stage 5'].max()-df['Stage 5'].min())))"
   ]
  },
  {
   "cell_type": "code",
   "execution_count": 199,
   "metadata": {
    "collapsed": false
   },
   "outputs": [
    {
     "data": {
      "text/plain": [
       "<matplotlib.text.Text at 0x115d88668>"
      ]
     },
     "execution_count": 199,
     "metadata": {},
     "output_type": "execute_result"
    },
    {
     "data": {
      "image/png": "[encoded data removed]",
      "text/plain": [
       "<matplotlib.figure.Figure at 0x115d9d208>"
      ]
     },
     "metadata": {},
     "output_type": "display_data"
    }
   ],
   "source": [
    "stage1.hist(bins=30)\n",
    "plt.title('Distribution of Reactor Queue Times')\n",
    "plt.ylabel('Count')\n",
    "plt.xlabel('Minutes')"
   ]
  },
  {
   "cell_type": "markdown",
   "metadata": {},
   "source": [
    "## References\n",
    "\n",
    "Danial J. Schultheisz and Jude T. Sommerfeld. \"Discrete-Event Simulation in Chemical Engineering,\" Chemical Engineering Education, Spring 1988, pp. 98-102.\n",
    "\n"
   ]
  },
  {
   "cell_type": "code",
   "execution_count": null,
   "metadata": {
    "collapsed": true
   },
   "outputs": [],
   "source": []
  }
 ],
 "metadata": {
  "kernelspec": {
   "display_name": "Python [conda root]",
   "language": "python",
   "name": "conda-root-py"
  },
  "language_info": {
   "codemirror_mode": {
    "name": "ipython",
    "version": 3
   },
   "file_extension": ".py",
   "mimetype": "text/x-python",
   "name": "python",
   "nbconvert_exporter": "python",
   "pygments_lexer": "ipython3",
   "version": "3.5.2"
  }
 },
 "nbformat": 4,
 "nbformat_minor": 2
}
